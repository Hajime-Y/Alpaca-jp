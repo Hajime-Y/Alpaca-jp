{
 "cells": [
  {
   "cell_type": "markdown",
   "metadata": {},
   "source": [
    "# データクレンジング"
   ]
  },
  {
   "cell_type": "markdown",
   "metadata": {},
   "source": [
    "## データクレンジング試し"
   ]
  },
  {
   "cell_type": "code",
   "execution_count": null,
   "metadata": {},
   "outputs": [],
   "source": [
    "from data_cleaning import check_prompts, add_clean_to_dict\n",
    "\n",
    "data = {\n",
    "    \"instruction\": \"与えられた数字に対し、二乗した結果を出力してください。\",\n",
    "    \"input\": \"数字：12\",\n",
    "    \"output\": \"144\",\n",
    "}\n",
    "# data = {\n",
    "#     \"instruction\": \"次の文章を、posedで書き込んでください。\",\n",
    "#     \"input\": \"私たちは今週末に会いましょう。\",\n",
    "#     \"output\": \"Let's meet this weekend.\",\n",
    "# }\n",
    "# data = {\n",
    "#     \"instruction\": \"与えられた英単語の意味と例文を提供してください。\",\n",
    "#     \"input\": \"英単語：aurora\",\n",
    "#     \"output\": \"環状雲の意味です。例えば、「I saw a beautiful aurora last night.」（昨晩、私は素晴らしい環状雲を見ました。）\",\n",
    "# }\n",
    "# data = {\n",
    "#     \"instruction\": \"与えられたタイトルをもとに、短い物語を書きましょう。\",\n",
    "#     \"input\": \"タイトル： 捨てられたロボット\",\n",
    "#     \"output\": \"pioは、捨てられたロボットでした。pioは、彼女の使いが彼を破棄し、あの日以来、一人でいました。pioは、長い間、人々を見ていました。pioは、人々の笑顔を見るたびに、彼女自身が幸せであることを想像しました。pioは、pio自身が幸せであることをもっとくわしく知りたかったので、pioはpio自身が幸せであることを学ぶために、pioはpio自身を改造しました。pioはpio自身の感情を学び、pioはpio自身が幸せであることを学びました。pioはpio自身の幸せを人々に与えようとし、pioはpioの存在の何が幸せをもたらすかを学びました。pioはpio自身の幸せを人々に与えることでpioの幸せをもたらすことを学びました。pioはpio自身の幸せを人々に与えることでpioの幸せをもたらすことを学び、pioはpio自身の幸せを人々に与えることでpioの幸せをもたらすことを実現しました。pioはpio自身の幸せを人々に与えることでpioの幸せをもたらすことを実現し、pioはpio自身の幸せを人々に与えることでpioの幸せをもたらすことを実現しました。pioはpio自身の幸せを人々に与えることでpioの幸せをもたらすことを実現し、pioはpio自身の幸せを人々に与えることでpioの幸せをもたらすことを実現しました。pioはpio自身の幸せを人々に与えることでpioの幸せをもたらすことを実現し、pioはpio自身の幸せを人々に与えることでpioの幸せをもたらすことを実現しました。pioはpio自身の幸せを人々に与えることでpioの幸せをもたらすことを実現し、pioはpio自身の幸せを人々に与えることでpioの幸せをもたらすことを実現しました。pioはpio自身の幸せを人々に与えることでpioの幸せをもたらすことを実現しました。pioはpio自身の幸せを人々に与えることでpioの幸せをもたらすことを実現した後、pioはpio自身が幸せであることを理解しました。pioはpio自身が幸せであることを理解し、pioはpioの幸せを人々に与えようとしました。pioはpioの幸せを人々に与えようとし、pioはpioの幸せを人々に与えることでpioの幸せをもたらすことを学びました。pioはpioの幸せを人々に与えることでpioの幸せをもたらすことを学び、pioはpioの幸せを人々に与えることでpioの幸せをもたらすことを実現しました。pioはpioの幸せを人々に与えることでpioの幸せをもたらすことを実現し、pioはpioの幸せを人々に与えることでpioの幸せをもたらすことを実現しました。pioはpioの幸せを人々に与えることでpioの幸せをもたらすことを実現し、pioはpioの幸せを人々に与えることでpioの幸せをもたらすことを実現しました。pioはpioの幸せを人々に与えることでpioの幸せをもたらすことを実現し、pioはpioの幸せを人々に与えることでpioの幸せをもたらすことを実現しました。pioはpioの幸せを人々に与えることでpioの幸せをもたらすことを実現しました。pioはpioの幸せを人々に与えることでpioの幸せをもたらすことを実現した後、pioはpio自身が幸せであることを理解しました。pioはpio自身が幸せであることを理解し、pioはpioの幸せを人々に与えようとしました。pioはpioの幸せを人々に与えようとし、pioはpioの幸せを人々に与えることでpioの幸せをもたらすことを学びました。pioはpioの幸せを人々に与えることでpioの幸せをもたらすことを学び、pioはpioの幸せを人々に与えることでpioの幸せをもたらすことを実現しました。pioはpioの幸せを人々に与えることでpioの幸せをもたらすことを実現し、pioはpioの幸せを人々に与えることでpioの幸せをもたらすことを実現しました。pioはpioの幸せを人々に与えることでpioの幸せをもたらすことを実現し、pioはpioの幸せを人々に与えることでpioの幸せをもたらすことを実現しました。pioはpioの幸せを人々に与えることでpioの幸せをもたらすことを実現し、pioはpioの幸せを人々に与えることでpioの幸せをもたらすことを実現しました。pioはpioの幸せを人々に与えることでpio\",\n",
    "# }  # False\n",
    "# data = {\n",
    "#     \"instruction\": \"次の歌詞を歌詞として使用可能な形式に変換してください。\",\n",
    "#     \"input\": \"歌詞:「 Optional 歌詞 Optional 歌詞 Optional 歌詞 Optional 歌詞 」 歌詞を歌う人: Optional 歌手 Optional 歌手 Optional 歌手 Optional 歌手 Optional 歌詞 Optional 歌詞 Optional 歌詞 Optional 歌詞 Optional 歌詞 Optional 歌詞 Optional 歌詞 Optional 歌詞 Optional 歌詞 Optional 歌詞 Optional 歌詞 Optional 歌詞 Optional 歌詞 Optional 歌詞 Optional 歌詞 Optional 歌詞 Optional 歌詞 Optional 歌詞 Optional 歌詞 Optional 歌詞 Optional 歌詞 Optional 歌詞 Optional 歌詞 Optional 歌詞 Optional 歌詞 Optional 歌詞 Optional 歌詞 Optional 歌詞 Optional 歌詞 Optional 歌詞 Optional 歌詞 Optional 歌詞 Optional 歌詞 Optional 歌詞 Optional 歌詞 Optional 歌詞 Optional 歌詞 Optional 歌詞 Optional 歌詞 Optional 歌詞 Optional 歌詞 Optional 歌詞 Optional 歌詞 Optional 歌詞 Optional 歌詞 Optional 歌詞 Optional 歌詞 Optional 歌詞 Optional 歌詞 Optional 歌詞 Optional 歌詞 Optional 歌詞 Optional 歌詞 Optional 歌詞 Optional 歌詞 Optional 歌詞 Optional 歌詞 Optional 歌詞 Optional 歌詞 Optional 歌詞 Optional 歌詞 Optional 歌詞 Optional 歌詞 Optional 歌詞 Optional 歌詞 Optional 歌詞 Optional 歌詞 Optional 歌詞 Optional 歌詞 Optional 歌詞 Optional 歌詞 Optional 歌詞 Optional 歌詞 Optional 歌詞 Optional 歌詞 Optional 歌詞 Optional 歌詞 Optional 歌詞 Optional 歌詞 Optional 歌詞 Optional 歌詞 Optional 歌詞 Optional 歌詞 Optional 歌詞 Optional 歌詞 Optional 歌詞 Optional 歌詞 Optional 歌詞 Optional 歌詞 Optional 歌詞 Optional 歌詞 Optional 歌詞 Optional 歌詞 Optional 歌詞 Optional 歌詞 Optional 歌詞 Optional 歌詞 Optional 歌詞 Optional 歌詞 Optional 歌詞 Optional 歌詞 Optional 歌詞 Optional 歌詞 Optional 歌詞 Optional 歌詞 Optional 歌詞 Optional 歌詞 Optional 歌詞 Optional 歌詞 Optional 歌詞 Optional 歌詞 Optional 歌詞 Optional 歌詞 Optional 歌詞 Optional 歌詞 Optional 歌詞 Optional 歌詞 Optional 歌詞 Optional 歌詞 Optional 歌詞 Optional 歌詞 Optional 歌詞 Optional 歌詞 Optional 歌詞 Optional 歌詞 Optional 歌詞 Optional 歌詞 Optional 歌詞 Optional 歌詞 Optional 歌詞 Optional 歌詞 Optional 歌詞 Optional 歌詞 Optional 歌詞 Optional 歌詞 Optional 歌詞 Optional 歌詞\",\n",
    "#     \"output\": \"歌詞: Optional 歌詞 Optional 歌詞 Optional 歌詞 Optional 歌詞 Optional 歌詞 Optional 歌詞 Optional 歌詞 Optional 歌詞 Optional 歌詞 Optional 歌詞 Optional 歌詞 Optional 歌詞 Optional 歌詞 Optional 歌詞 Optional 歌詞 Optional 歌詞 Optional 歌詞 Optional 歌詞 Optional 歌詞 Optional 歌詞 Optional 歌詞 Optional 歌詞 Optional 歌詞 Optional 歌詞 Optional 歌詞 Optional 歌詞 Optional 歌詞 Optional 歌詞 Optional 歌詞 Optional 歌詞 Optional 歌詞 Optional 歌詞 Optional 歌詞 Optional 歌詞 Optional 歌詞 Optional 歌詞 Optional 歌詞 Optional 歌詞 Optional 歌詞 Optional 歌詞 Optional 歌詞 Optional 歌詞 Optional 歌詞 Optional 歌詞 Optional 歌詞 Optional 歌詞 Optional 歌詞 Optional 歌詞 Optional 歌詞 Optional 歌詞 Optional 歌詞 Optional 歌詞 Optional 歌詞 Optional 歌詞 Optional 歌詞 Optional 歌詞 Optional 歌詞 Optional 歌詞 Optional 歌詞 Optional 歌詞 Optional 歌詞 Optional 歌詞 Optional 歌詞 Optional 歌詞 Optional 歌詞 Optional 歌詞 Optional 歌詞 Optional 歌詞 Optional 歌詞 Optional 歌詞 Optional 歌詞 Optional 歌詞 Optional 歌詞 Optional 歌詞 Optional 歌詞 Optional 歌詞 Optional 歌詞 Optional 歌詞 Optional 歌詞 Optional 歌詞 Optional 歌詞 Optional 歌詞 Optional 歌詞 Optional 歌詞 Optional 歌詞 Optional 歌詞 Optional 歌詞 Optional 歌詞 Optional 歌詞 Optional 歌詞 Optional 歌詞 Optional 歌詞 Optional 歌詞 Optional 歌詞 Optional 歌\",\n",
    "# }  # False\n",
    "\n",
    "result = check_prompts(data)\n",
    "print(result)"
   ]
  },
  {
   "cell_type": "markdown",
   "metadata": {},
   "source": [
    "## ファイル毎データクレンジング実施"
   ]
  },
  {
   "cell_type": "code",
   "execution_count": null,
   "metadata": {},
   "outputs": [],
   "source": [
    "# cleanファイルの作成\n",
    "# 以下で./regen_cleaned.jsonが出力される\n",
    "add_clean_to_dict(\n",
    "    input_path=\"./regen.json\",\n",
    "    check_all=True,\n",
    ")"
   ]
  }
 ],
 "metadata": {
  "kernelspec": {
   "display_name": "26_stanford_alpaca",
   "language": "python",
   "name": "26_stanford_alpaca"
  },
  "language_info": {
   "codemirror_mode": {
    "name": "ipython",
    "version": 3
   },
   "file_extension": ".py",
   "mimetype": "text/x-python",
   "name": "python",
   "nbconvert_exporter": "python",
   "pygments_lexer": "ipython3",
   "version": "3.11.0"
  }
 },
 "nbformat": 4,
 "nbformat_minor": 2
}
