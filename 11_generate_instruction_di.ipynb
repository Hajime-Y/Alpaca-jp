{
 "cells": [
  {
   "cell_type": "markdown",
   "metadata": {},
   "source": [
    "# deepinfra APIを用いた生成例"
   ]
  },
  {
   "cell_type": "markdown",
   "metadata": {},
   "source": [
    " - deepinfraへの登録とAPIの取得が必要→[リンク](https://deepinfra.com/dash/api_keys)\n",
    " - [deepinfraのMixtral](https://deepinfra.com/mistralai/Mixtral-8x22B-Instruct-v0.1)"
   ]
  },
  {
   "cell_type": "code",
   "execution_count": null,
   "metadata": {},
   "outputs": [],
   "source": [
    "!python -m generate_instruction_di generate_instruction_following_data \\\n",
    "  --output_path=\"./regen_di.json\" \\\n",
    "  --num_instructions_to_generate 32000 \\\n",
    "  --request_batch_size 10 \\\n",
    "  --model_name=\"mistralai/Mixtral-8x22B-Instruct-v0.1\" \\\n",
    "  --seed_tasks_path=\"./seed_tasks/seed_tasks_jp_cleaned.jsonl\" \\\n",
    "  --num_cpus 1 \\\n",
    "  --temperature 0.8"
   ]
  }
 ],
 "metadata": {
  "kernelspec": {
   "display_name": "26_stanford_alpaca",
   "language": "python",
   "name": "26_stanford_alpaca"
  },
  "language_info": {
   "codemirror_mode": {
    "name": "ipython",
    "version": 3
   },
   "file_extension": ".py",
   "mimetype": "text/x-python",
   "name": "python",
   "nbconvert_exporter": "python",
   "pygments_lexer": "ipython3",
   "version": "3.11.0"
  }
 },
 "nbformat": 4,
 "nbformat_minor": 2
}
