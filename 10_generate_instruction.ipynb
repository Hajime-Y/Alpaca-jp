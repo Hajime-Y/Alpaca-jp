{
 "cells": [
  {
   "cell_type": "markdown",
   "metadata": {},
   "source": [
    "## MistralAI APIを利用する際の生成例"
   ]
  },
  {
   "cell_type": "code",
   "execution_count": null,
   "metadata": {},
   "outputs": [],
   "source": [
    "!python -m generate_instruction_ms generate_instruction_following_data \\\n",
    "  --output_dir ./ \\\n",
    "  --num_instructions_to_generate 10 \\\n",
    "  --request_batch_size 1 \\\n",
    "  --model_name=\"open-mixtral-8x22b\" \\\n",
    "  --seed_tasks_path=\"./seed_tasks/seed_tasks_jp_cleaned.jsonl\" \\\n",
    "  --num_cpus 1 \\\n",
    "  --temperature 0.8\n",
    "\n",
    "# model_name: open-mistral-7b, open-mixtral-8x7b, open-mixtral-8x22b"
   ]
  }
 ],
 "metadata": {
  "kernelspec": {
   "display_name": "26_stanford_alpaca",
   "language": "python",
   "name": "26_stanford_alpaca"
  },
  "language_info": {
   "codemirror_mode": {
    "name": "ipython",
    "version": 3
   },
   "file_extension": ".py",
   "mimetype": "text/x-python",
   "name": "python",
   "nbconvert_exporter": "python",
   "pygments_lexer": "ipython3",
   "version": "3.11.0"
  }
 },
 "nbformat": 4,
 "nbformat_minor": 2
}
